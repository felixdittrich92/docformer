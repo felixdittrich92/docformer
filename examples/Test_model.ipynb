{
 "cells": [
  {
   "cell_type": "code",
   "execution_count": 13,
   "id": "638731cb-7d2b-40fa-9342-c2d9e3f8f296",
   "metadata": {},
   "outputs": [
    {
     "data": {
      "text/plain": [
       "<module 'modeling' from '/home/shabie/projects/relative-transformers/docformer/modeling.py'>"
      ]
     },
     "execution_count": 13,
     "metadata": {},
     "output_type": "execute_result"
    }
   ],
   "source": [
    "import modeling\n",
    "import gc\n",
    "from importlib import reload\n",
    "import torch\n",
    "reload(modeling)"
   ]
  },
  {
   "cell_type": "code",
   "execution_count": 14,
   "id": "df049c94-0d6f-4a68-ae0a-cdf8161ae27a",
   "metadata": {},
   "outputs": [],
   "source": [
    "torch.cuda.empty_cache()"
   ]
  },
  {
   "cell_type": "code",
   "execution_count": 15,
   "id": "0cba658d-d80c-477a-b6e2-0eef875728aa",
   "metadata": {},
   "outputs": [],
   "source": [
    "config = {\n",
    "  \"coordinate_size\": 96,\n",
    "  \"hidden_dropout_prob\": 0.1,\n",
    "  \"hidden_size\": 768,\n",
    "  \"image_feature_pool_shape\": [\n",
    "    7,\n",
    "    7,\n",
    "    256\n",
    "  ],\n",
    "  \"intermediate_ff_size_factor\": 3,  # default ought to be 4\n",
    "  \"max_2d_position_embeddings\": 1024,\n",
    "  \"max_position_embeddings\": 512,\n",
    "  \"max_relative_positions\": 8,\n",
    "  \"num_attention_heads\": 12,\n",
    "  \"num_hidden_layers\": 12,\n",
    "  \"pad_token_id\": 0,\n",
    "  \"shape_size\": 96,\n",
    "  \"vocab_size\": 30522,\n",
    "  \"layer_norm_eps\": 1e-12,\n",
    "}"
   ]
  },
  {
   "cell_type": "code",
   "execution_count": 16,
   "id": "696bcb6c-1890-4861-acfb-76425476a9eb",
   "metadata": {},
   "outputs": [
    {
     "name": "stdout",
     "output_type": "stream",
     "text": [
      "Total Trainable Params: 183019489\n"
     ]
    },
    {
     "data": {
      "text/plain": [
       "97"
      ]
     },
     "execution_count": 16,
     "metadata": {},
     "output_type": "execute_result"
    }
   ],
   "source": [
    "from prettytable import PrettyTable\n",
    "\n",
    "def count_parameters(model):\n",
    "    table = PrettyTable([\"Modules\", \"Parameters\"])\n",
    "    total_params = 0\n",
    "    for name, parameter in model.named_parameters():\n",
    "        if not parameter.requires_grad: continue\n",
    "        param = parameter.numel()\n",
    "        table.add_row([name, param])\n",
    "        total_params += param\n",
    "    # print(table)\n",
    "    print(f\"Total Trainable Params: {total_params}\")\n",
    "    return total_params\n",
    "\n",
    "model = modeling.DocFormer(config, 1)\n",
    "count_parameters(model)\n",
    "del model\n",
    "gc.collect()"
   ]
  },
  {
   "cell_type": "code",
   "execution_count": 4,
   "id": "a4120cfb-c29e-4732-8a2e-c577b1d4c915",
   "metadata": {
    "tags": []
   },
   "outputs": [
    {
     "name": "stdout",
     "output_type": "stream",
     "text": [
      "done\n"
     ]
    }
   ],
   "source": [
    "# del enc\n",
    "config[\"num_hidden_layers\"] = 4  # avoid out of memory error\n",
    "enc = modeling.DocFormerEncoder(config)\n",
    "device = \"cpu\"\n",
    "# device = torch.device('cuda' if torch.cuda.is_available() else 'cpu')\n",
    "enc.to(device)\n",
    "print(\"done\")"
   ]
  },
  {
   "cell_type": "code",
   "execution_count": 5,
   "id": "c5867c04-b1f9-4ab4-821c-725b001a81d1",
   "metadata": {
    "tags": []
   },
   "outputs": [
    {
     "name": "stdout",
     "output_type": "stream",
     "text": [
      "done\n"
     ]
    }
   ],
   "source": [
    "v_bar, t_bar, v_bar_s, t_bar_s = torch.randn(2, 512, 768), torch.randn(2, 512, 768), torch.randn(2, 512, 768), torch.randn(2, 512, 768)\n",
    "v_bar.to(device), t_bar.to(device), v_bar_s.to(device), t_bar_s.to(device)\n",
    "print(\"done\")"
   ]
  },
  {
   "cell_type": "code",
   "execution_count": 6,
   "id": "21737a01-3637-4973-995a-497ef9586411",
   "metadata": {},
   "outputs": [],
   "source": [
    "r = enc(t_bar, v_bar, v_bar_s, t_bar_s)"
   ]
  },
  {
   "cell_type": "code",
   "execution_count": 7,
   "id": "25a187fb-556e-4b67-b97e-afceac0c8ae4",
   "metadata": {},
   "outputs": [
    {
     "data": {
      "text/plain": [
       "torch.Size([2, 512, 768])"
      ]
     },
     "execution_count": 7,
     "metadata": {},
     "output_type": "execute_result"
    }
   ],
   "source": [
    "r.shape"
   ]
  }
 ],
 "metadata": {
  "kernelspec": {
   "display_name": "Python 3",
   "language": "python",
   "name": "python3"
  },
  "language_info": {
   "codemirror_mode": {
    "name": "ipython",
    "version": 3
   },
   "file_extension": ".py",
   "mimetype": "text/x-python",
   "name": "python",
   "nbconvert_exporter": "python",
   "pygments_lexer": "ipython3",
   "version": "3.6.9"
  }
 },
 "nbformat": 4,
 "nbformat_minor": 5
}
